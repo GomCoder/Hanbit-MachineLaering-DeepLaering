{
 "cells": [
  {
   "cell_type": "markdown",
   "id": "8ee199db",
   "metadata": {},
   "source": [
    "# 선형 회귀"
   ]
  },
  {
   "cell_type": "markdown",
   "id": "f8d5cdf6",
   "metadata": {},
   "source": [
    "## k-최근접 이웃 알고리즘의 한계"
   ]
  },
  {
   "cell_type": "code",
   "execution_count": 1,
   "id": "812bc4e5",
   "metadata": {},
   "outputs": [],
   "source": [
    "import numpy as np\n",
    "\n",
    "perch_length = np.array(\n",
    "        [8.4, 13.7, 15.0, 16.2, 17.4, 18.0, 18.7, 19.0, 19.6, 20.0, \n",
    "         21.0, 21.0, 21.0, 21.3, 22.0, 22.0, 22.0, 22.0, 22.0, 22.5,\n",
    "         22.5, 22.7, 23.0, 23.5, 24.0, 24.0, 24.6, 25.0, 25.6, 26.5, \n",
    "         27.3, 27.5, 27.5, 27.5, 28.0, 28.7, 30.0, 32.8, 34.5, 35.0,\n",
    "         36.5, 36.0, 37.0, 37.0, 39.0, 39.0, 39.0, 40.0, 40.0, 40.0, \n",
    "         40.0, 42.0, 43.0, 43.0, 43.5, 44.0]\n",
    "         )\n",
    "perch_weight = np.array(\n",
    "        [5.9, 32.0, 40.0, 51.5, 70.0, 100.0, 78.0, 80.0, 85.0, 85.0,\n",
    "         110.0, 115.0, 125.0, 130.0, 120.0, 120.0, 130.0, 135.0, 110.0,\n",
    "         130.0, 150.0, 145.0, 150.0, 170.0, 225.0, 145.0, 188.0, 180.0,\n",
    "         197.0, 218.0, 300.0, 260.0, 265.0, 250.0, 250.0, 300.0, 320.0,\n",
    "         514.0, 556.0, 840.0, 685.0, 700.0, 700.0, 690.0, 900.0, 650.0,\n",
    "         820.0, 850.0, 900.0, 1015.0, 820.0, 1100.0, 1000.0, 1100.0,\n",
    "         1000.0, 1000.0]\n",
    "         )"
   ]
  },
  {
   "cell_type": "code",
   "execution_count": 2,
   "id": "f3386da0",
   "metadata": {},
   "outputs": [],
   "source": [
    "# 훈련 세트와 테스트 세트로 나눔\n",
    "from sklearn.model_selection import train_test_split\n",
    "\n",
    "train_input, test_input, train_target, test_target = train_test_split(perch_length, perch_weight, random_state=42)\n"
   ]
  },
  {
   "cell_type": "code",
   "execution_count": 7,
   "id": "bc059099",
   "metadata": {},
   "outputs": [],
   "source": [
    "# 훈련 세트와 테스트 세트를 2차원 배열로 바꿈\n",
    "train_input = train_input.reshape(-1,1)\n",
    "test_input = test_input.reshape(-1,1)\n"
   ]
  },
  {
   "cell_type": "code",
   "execution_count": 13,
   "id": "ed75c851",
   "metadata": {},
   "outputs": [
    {
     "name": "stdout",
     "output_type": "stream",
     "text": [
      "[1033.33333333]\n"
     ]
    }
   ],
   "source": [
    "# k-최근접 이웃 회귀 모델을 훈련합니다.\n",
    "from sklearn.neighbors import KNeighborsRegressor\n",
    "\n",
    "knr = KNeighborsRegressor(n_neighbors=3)\n",
    "\n",
    "knr.fit(train_input, train_target)\n",
    "\n",
    "print(knr.predict([[50]]))"
   ]
  },
  {
   "cell_type": "code",
   "execution_count": 14,
   "id": "c9f49e0d",
   "metadata": {},
   "outputs": [
    {
     "data": {
      "image/png": "[encoded data removed]",
      "text/plain": [
       "<Figure size 432x288 with 1 Axes>"
      ]
     },
     "metadata": {
      "needs_background": "light"
     },
     "output_type": "display_data"
    }
   ],
   "source": [
    "# 50cm 농어의 이웃을 구한다.\n",
    "\n",
    "import matplotlib.pyplot as plt\n",
    "\n",
    "distances, indexes = knr.kneighbors([[50]])\n",
    "\n",
    "# 훈련 세트의 선점도를 그린다.\n",
    "plt.scatter(train_input, train_target)\n",
    "\n",
    "# 훈련 세트 중에서 이웃 샘플만 다시 그린다.\n",
    "plt.scatter(train_input[indexes], train_target[indexes], marker='D')\n",
    "\n",
    "# 50cm 농어 데이터\n",
    "plt.scatter(50, 1033, marker='^')\n",
    "plt.show()"
   ]
  },
  {
   "cell_type": "code",
   "execution_count": 15,
   "id": "288b876f",
   "metadata": {},
   "outputs": [
    {
     "name": "stdout",
     "output_type": "stream",
     "text": [
      "1033.3333333333333\n"
     ]
    }
   ],
   "source": [
    "print(np.mean(train_target[indexes]))"
   ]
  },
  {
   "cell_type": "code",
   "execution_count": 16,
   "id": "ee96a8bc",
   "metadata": {},
   "outputs": [
    {
     "name": "stdout",
     "output_type": "stream",
     "text": [
      "[1033.33333333]\n"
     ]
    }
   ],
   "source": [
    "print(knr.predict([[100]]))"
   ]
  },
  {
   "cell_type": "code",
   "execution_count": 19,
   "id": "119a3e10",
   "metadata": {},
   "outputs": [
    {
     "data": {
      "image/png": "[encoded data removed]",
      "text/plain": [
       "<Figure size 432x288 with 1 Axes>"
      ]
     },
     "metadata": {
      "needs_background": "light"
     },
     "output_type": "display_data"
    }
   ],
   "source": [
    "# 100cm 농어의 이웃을 구합니다.\n",
    "distances, indexes = knr.kneighbors([[100]])\n",
    "\n",
    "# 훈련 세트의 산점도를 그린다.\n",
    "plt.scatter(train_input, train_target)\n",
    "\n",
    "# 훈련 세트 중에서 이웃 샘플만 다시 그린다.\n",
    "plt.scatter(train_input[indexes], train_target[indexes], marker='D')\n",
    "\n",
    "# 100cm 농어 데이터\n",
    "plt.scatter(100, 1033, marker='^')\n",
    "plt.show()"
   ]
  },
  {
   "cell_type": "markdown",
   "id": "6946f4d0",
   "metadata": {},
   "source": [
    "## 선형 회귀"
   ]
  },
  {
   "cell_type": "code",
   "execution_count": 20,
   "id": "ce00fbbb",
   "metadata": {},
   "outputs": [
    {
     "name": "stdout",
     "output_type": "stream",
     "text": [
      "[1241.83860323]\n"
     ]
    }
   ],
   "source": [
    "from sklearn.linear_model import LinearRegression\n",
    "lr = LinearRegression()\n",
    "\n",
    "# 선형회귀 모델을 훈련함\n",
    "lr.fit(train_input, train_target)\n",
    "\n",
    "# 50cm 농어에 대해 예측합니다.\n",
    "print(lr.predict([[50]]))"
   ]
  },
  {
   "cell_type": "code",
   "execution_count": 21,
   "id": "fec4c8f6",
   "metadata": {},
   "outputs": [
    {
     "name": "stdout",
     "output_type": "stream",
     "text": [
      "[39.01714496] -709.0186449535477\n"
     ]
    }
   ],
   "source": [
    "print(lr.coef_, lr.intercept_)"
   ]
  },
  {
   "cell_type": "code",
   "execution_count": 25,
   "id": "9213efdc",
   "metadata": {},
   "outputs": [
    {
     "data": {
      "image/png": "[encoded data removed]",
      "text/plain": [
       "<Figure size 432x288 with 1 Axes>"
      ]
     },
     "metadata": {
      "needs_background": "light"
     },
     "output_type": "display_data"
    }
   ],
   "source": [
    "# 훈련 세드의 산점도를 그립니다.\n",
    "plt.scatter(train_input, train_target)\n",
    "\n",
    "# 15에서 50까지 1차 방정식을 그립니다.\n",
    "plt.plot([15, 50], [15*lr.coef_+lr.intercept_, 50*lr.coef_+lr.intercept_])\n",
    "\n",
    "# 50cm 농어 데이터\n",
    "plt.scatter(50, 1241.8, marker='^')\n",
    "plt.show()"
   ]
  },
  {
   "cell_type": "code",
   "execution_count": 27,
   "id": "0e601d9b",
   "metadata": {},
   "outputs": [
    {
     "name": "stdout",
     "output_type": "stream",
     "text": [
      "0.939846333997604\n",
      "0.8247503123313558\n"
     ]
    }
   ],
   "source": [
    "# 훈련 세트\n",
    "print(lr.score(train_input, train_target))\n",
    "# 테스트 세트\n",
    "print(lr.score(test_input, test_target))"
   ]
  },
  {
   "cell_type": "markdown",
   "id": "04047144",
   "metadata": {},
   "source": [
    "## 다항 회귀"
   ]
  },
  {
   "cell_type": "code",
   "execution_count": 29,
   "id": "05599dbd",
   "metadata": {},
   "outputs": [
    {
     "name": "stdout",
     "output_type": "stream",
     "text": [
      "(42, 2) (14, 2)\n"
     ]
    }
   ],
   "source": [
    "train_poly = np.column_stack((train_input**2, train_input))\n",
    "test_poly = np.column_stack((test_input**2, test_input))\n",
    "\n",
    "print(train_poly.shape, test_poly.shape)"
   ]
  },
  {
   "cell_type": "code",
   "execution_count": 31,
   "id": "24f4949e",
   "metadata": {},
   "outputs": [
    {
     "name": "stdout",
     "output_type": "stream",
     "text": [
      "[1573.98423528]\n"
     ]
    }
   ],
   "source": [
    "lr = LinearRegression()\n",
    "lr.fit(train_poly, train_target)\n",
    "\n",
    "print(lr.predict([[50**2, 50]]))"
   ]
  },
  {
   "cell_type": "code",
   "execution_count": 32,
   "id": "4accd91d",
   "metadata": {},
   "outputs": [
    {
     "name": "stdout",
     "output_type": "stream",
     "text": [
      "[  1.01433211 -21.55792498] 116.05021078278304\n"
     ]
    }
   ],
   "source": [
    "print(lr.coef_, lr.intercept_)"
   ]
  },
  {
   "cell_type": "code",
   "execution_count": 39,
   "id": "b8fcf84d",
   "metadata": {},
   "outputs": [
    {
     "data": {
      "image/png": "[encoded data removed]",
      "text/plain": [
       "<Figure size 432x288 with 1 Axes>"
      ]
     },
     "metadata": {
      "needs_background": "light"
     },
     "output_type": "display_data"
    }
   ],
   "source": [
    "# 구간별 직선을 그리기 위해 15에서 49까지 정수 배열을 만듭니다.\n",
    "point = np.arange(15, 50)\n",
    "\n",
    "# 훈련 세트의 산점도를 그린다.\n",
    "plt.scatter(train_input, train_target)\n",
    "\n",
    "# 15에서 49까지 2차 방정식 그래프를 그린다.\n",
    "plt.plot(point, 1.01*point**2 - 21.5*point + 116.05)\n",
    "\n",
    "# 50cm 농어 데이터\n",
    "plt.scatter([50], [1574], marker='^')\n",
    "plt.show()"
   ]
  },
  {
   "cell_type": "code",
   "execution_count": 40,
   "id": "a032c08e",
   "metadata": {},
   "outputs": [
    {
     "name": "stdout",
     "output_type": "stream",
     "text": [
      "0.9706807451768623\n",
      "0.9775935108325122\n"
     ]
    }
   ],
   "source": [
    "print(lr.score(train_poly, train_target))\n",
    "print(lr.score(test_poly, test_target))"
   ]
  }
 ],
 "metadata": {
  "kernelspec": {
   "display_name": "Python 3",
   "language": "python",
   "name": "python3"
  },
  "language_info": {
   "codemirror_mode": {
    "name": "ipython",
    "version": 3
   },
   "file_extension": ".py",
   "mimetype": "text/x-python",
   "name": "python",
   "nbconvert_exporter": "python",
   "pygments_lexer": "ipython3",
   "version": "3.8.8"
  }
 },
 "nbformat": 4,
 "nbformat_minor": 5
}
